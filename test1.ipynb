{
 "cells": [
  {
   "cell_type": "code",
   "execution_count": 8,
   "metadata": {},
   "outputs": [
    {
     "name": "stdout",
     "output_type": "stream",
     "text": [
      "5\n"
     ]
    }
   ],
   "source": [
    "arr = [5,4,3,2,1]\n",
    "\n",
    "n= len(arr)\n",
    "print(n)"
   ]
  },
  {
   "cell_type": "markdown",
   "metadata": {},
   "source": [
    "### SORT FUNCTION"
   ]
  },
  {
   "cell_type": "code",
   "execution_count": 9,
   "metadata": {},
   "outputs": [
    {
     "data": {
      "text/plain": [
       "[1, 2, 3, 4, 5]"
      ]
     },
     "execution_count": 9,
     "metadata": {},
     "output_type": "execute_result"
    }
   ],
   "source": [
    "def insertion_sort(arr):\n",
    "    n = len(arr)\n",
    "    for j in range(1,n):\n",
    "        key = arr[j]\n",
    "        i = j-1\n",
    "\n",
    "        while i >= 0 and arr[i] > key:\n",
    "            arr[i+1]=arr[i]\n",
    "            i -=1\n",
    "        arr[i+1] = key\n",
    "    return arr\n",
    "\n",
    "insertion_sort(arr)"
   ]
  },
  {
   "cell_type": "code",
   "execution_count": 10,
   "metadata": {},
   "outputs": [
    {
     "data": {
      "text/plain": [
       "120"
      ]
     },
     "execution_count": 10,
     "metadata": {},
     "output_type": "execute_result"
    }
   ],
   "source": [
    "def sum_naturales(n):\n",
    "    total = 0\n",
    "    for i in range(1, n+1):\n",
    "        total +=i\n",
    "    return total\n",
    "\n",
    "def sumar_formula(n):\n",
    "    return n*(n+1)//2\n",
    "\n",
    "sum_naturales(15)\n",
    "sumar_formula(15)\n"
   ]
  },
  {
   "cell_type": "code",
   "execution_count": 11,
   "metadata": {},
   "outputs": [
    {
     "name": "stdout",
     "output_type": "stream",
     "text": [
      "[0.0, 0.0, 0.0, 0.0, 0.0, 0.0, 0.0, 0.0, 0.0, 0.0, 0.0, 0.0, 0.0, 0.0, 0.005291461944580078, 0.0020093917846679688, 0.0, 0.0, 0.0, 0.0]\n",
      "[0.0007367134094238281, 0.004886627197265625, 0.012497186660766602, 0.02836322784423828, 0.03187060356140137, 0.04109382629394531, 0.05654025077819824, 0.07231402397155762, 0.09201192855834961, 0.1129310131072998, 0.1410529613494873, 0.16897916793823242, 0.1925363540649414, 0.22751879692077637, 0.2586021423339844, 0.2959609031677246, 0.3579714298248291, 0.38239336013793945, 0.41742563247680664, 0.47216224670410156]\n"
     ]
    },
    {
     "data": {
      "text/plain": [
       "[<matplotlib.lines.Line2D at 0x17716b081d0>]"
      ]
     },
     "execution_count": 11,
     "metadata": {},
     "output_type": "execute_result"
    },
    {
     "data": {
      "image/png": "[encoded data removed]",
      "text/plain": [
       "<Figure size 1000x500 with 1 Axes>"
      ]
     },
     "metadata": {},
     "output_type": "display_data"
    }
   ],
   "source": [
    "import time\n",
    "import numpy as np\n",
    "import matplotlib.pyplot as plt\n",
    "\n",
    "#generar diferentes tamaños de arrays\n",
    "sizes = np.linspace(100, 2000, 20, dtype=int)\n",
    "times_best = [] #mejor caso (array ya ordenado)\n",
    "times_worst = [] #peor caso (array en orden inverso)\n",
    "\n",
    "for n in sizes:\n",
    "    #mejor caso:array ya ordenado\n",
    "    best_case = np.arange(n) #[0,1,2,.., n-1]\n",
    "    start_time = time.time()\n",
    "    insertion_sort(best_case)\n",
    "    times_best.append(time.time() - start_time)\n",
    "\n",
    "    #peor caso: arra en orden inverso\n",
    "    worst_case = np.arange(n, 0, -1) #[n, n-1, ... , 2, 1]\n",
    "    start_time = time.time()\n",
    "    insertion_sort(worst_case)\n",
    "    times_worst.append(time.time() - start_time)\n",
    "\n",
    "print(times_best)\n",
    "print(times_worst)\n",
    "\n",
    "#GRAFICAR LOS TIEMPOS DE EJECUCION\n",
    "plt.figure(figsize=(10,5))\n",
    "plt.plot(sizes, times_best, label=\"Mejor caso (O(n))\", marker=\"o\")\n",
    "plt.plot(sizes, times_worst, label=\"Peor caso (O(n2))\", marker=\"s\")\n",
    "\n",
    "\n"
   ]
  },
  {
   "cell_type": "markdown",
   "metadata": {},
   "source": [
    "algoritmo que busque un elemento en una lista retorna true o false, calculcar complejidad algoritmica"
   ]
  },
  {
   "cell_type": "code",
   "execution_count": null,
   "metadata": {},
   "outputs": [],
   "source": []
  }
 ],
 "metadata": {
  "kernelspec": {
   "display_name": "base",
   "language": "python",
   "name": "python3"
  },
  "language_info": {
   "codemirror_mode": {
    "name": "ipython",
    "version": 3
   },
   "file_extension": ".py",
   "mimetype": "text/x-python",
   "name": "python",
   "nbconvert_exporter": "python",
   "pygments_lexer": "ipython3",
   "version": "3.12.9"
  }
 },
 "nbformat": 4,
 "nbformat_minor": 2
}
